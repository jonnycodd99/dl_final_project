{
 "cells": [
  {
   "cell_type": "code",
   "execution_count": 2,
   "metadata": {},
   "outputs": [],
   "source": [
    "import os\n",
    "import shutil\n",
    "from sklearn.model_selection import train_test_split\n",
    "import pandas as pd\n",
    "import sys\n",
    "sys.path.append('../')\n",
    "from segmentation_utilities import *"
   ]
  },
  {
   "cell_type": "markdown",
   "metadata": {},
   "source": [
    "# Train-valid split"
   ]
  },
  {
   "cell_type": "code",
   "execution_count": 5,
   "metadata": {},
   "outputs": [],
   "source": [
    "# Define the path to your data directory\n",
    "data_dir = '../../data/sentinal_training_downscaled/data'\n",
    "\n",
    "# Obtain pairs of files\n",
    "image_label_pairs = []\n",
    "\n",
    "for file in os.listdir(data_dir):\n",
    "    if file.endswith(\"_sat.tif\"):\n",
    "        root_name = file.split(\"_sat.tif\")[0]\n",
    "        label_file = root_name + \"_mask.tif\"\n",
    "        image_label_pairs.append((file, label_file))\n",
    "\n",
    "# Split the pairs into training and testing sets with a 90/10 split\n",
    "train_pairs, valid_pairs = train_test_split(image_label_pairs, test_size=0.1, random_state=42)"
   ]
  },
  {
   "cell_type": "code",
   "execution_count": 6,
   "metadata": {},
   "outputs": [],
   "source": [
    "# Function to copy files to a specific directory\n",
    "def copy_files(pairs, destination):\n",
    "    # Create the destination directory if it does not exist\n",
    "    if not os.path.exists(destination):\n",
    "        os.makedirs(destination)\n",
    "\n",
    "    for image_file, label_file in pairs:\n",
    "        # Source paths\n",
    "        image_source = os.path.join(data_dir, image_file)\n",
    "        label_source = os.path.join(data_dir, label_file)\n",
    "        \n",
    "        # Destination paths\n",
    "        image_dest = os.path.join(destination, image_file)\n",
    "        label_dest = os.path.join(destination, label_file)\n",
    "        \n",
    "        # Copy files\n",
    "        shutil.copy(image_source, image_dest)\n",
    "        shutil.copy(label_source, label_dest)\n",
    "\n",
    "# Copy training and validation pairs to their respective directories\n",
    "copy_files(train_pairs, '../../data/sentinal_training_downscaled/train')\n",
    "copy_files(valid_pairs, '../../data/sentinal_training_downscaled/valid')\n"
   ]
  }
 ],
 "metadata": {
  "kernelspec": {
   "display_name": "base",
   "language": "python",
   "name": "python3"
  },
  "language_info": {
   "codemirror_mode": {
    "name": "ipython",
    "version": 3
   },
   "file_extension": ".py",
   "mimetype": "text/x-python",
   "name": "python",
   "nbconvert_exporter": "python",
   "pygments_lexer": "ipython3",
   "version": "3.11.5"
  }
 },
 "nbformat": 4,
 "nbformat_minor": 2
}
