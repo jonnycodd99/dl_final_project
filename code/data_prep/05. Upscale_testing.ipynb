{
 "cells": [
  {
   "cell_type": "code",
   "execution_count": 1,
   "metadata": {},
   "outputs": [],
   "source": [
    "from PIL import Image\n",
    "import os"
   ]
  },
  {
   "cell_type": "code",
   "execution_count": 3,
   "metadata": {},
   "outputs": [],
   "source": [
    "import os\n",
    "import rasterio\n",
    "from rasterio.enums import Resampling\n",
    "from tqdm import tqdm\n",
    "\n",
    "def upscale_image_test(folder):\n",
    "    directory = f\"../../data/test/{folder}\"\n",
    "    output_directory = f\"../../data/test_downscaled/{folder}\"\n",
    "    os.makedirs(output_directory, exist_ok=True)\n",
    "\n",
    "    # Loop through each file in the directory\n",
    "    for filename in tqdm(os.listdir(directory), desc=\"Downscaling images\"):\n",
    "        if filename.lower().endswith('.tif') or filename.lower().endswith('.tiff'):\n",
    "            file_path = os.path.join(directory, filename)\n",
    "            # Open the image with rasterio\n",
    "            with rasterio.open(file_path) as src:\n",
    "                # Calculate new dimensions (50% scale)\n",
    "                new_width = 128\n",
    "                new_height = 128\n",
    "\n",
    "                # Update the transformation matrix for the affine transformation of the image\n",
    "                transform = src.transform * src.transform.scale(\n",
    "                    (src.width / new_width),\n",
    "                    (src.height / new_height)\n",
    "                )\n",
    "\n",
    "                # Set the metadata for the output image\n",
    "                profile = src.profile\n",
    "                profile.update({\n",
    "                    'height': new_height,\n",
    "                    'width': new_width,\n",
    "                    'transform': transform\n",
    "                })\n",
    "\n",
    "                output_path = os.path.join(output_directory, filename)\n",
    "                # Write the downscaled image\n",
    "                with rasterio.open(output_path, 'w', **profile) as dst:\n",
    "                    # Read the image data and resample\n",
    "                    for i in range(1, src.count + 1):\n",
    "                        data = src.read(\n",
    "                            i,\n",
    "                            out_shape=(new_height, new_width),\n",
    "                            resampling=Resampling.bilinear\n",
    "                        )\n",
    "                        dst.write(data, i)\n",
    "\n",
    "    print(f\"Images have been upscaled and saved in {output_directory}\")\n"
   ]
  },
  {
   "cell_type": "code",
   "execution_count": 4,
   "metadata": {},
   "outputs": [
    {
     "name": "stderr",
     "output_type": "stream",
     "text": [
      "Downscaling images: 100%|██████████| 2000/2000 [00:19<00:00, 104.64it/s]"
     ]
    },
    {
     "name": "stdout",
     "output_type": "stream",
     "text": [
      "Images have been downscaled and saved in ../../data/test_downscaled/catalonia\n"
     ]
    },
    {
     "name": "stderr",
     "output_type": "stream",
     "text": [
      "\n"
     ]
    }
   ],
   "source": [
    "upscale_image_test(\"catalonia\")"
   ]
  },
  {
   "cell_type": "code",
   "execution_count": 5,
   "metadata": {},
   "outputs": [
    {
     "name": "stderr",
     "output_type": "stream",
     "text": [
      "Downscaling images: 100%|██████████| 2000/2000 [00:19<00:00, 100.97it/s]"
     ]
    },
    {
     "name": "stdout",
     "output_type": "stream",
     "text": [
      "Images have been downscaled and saved in ../../data/test_downscaled/ar\n"
     ]
    },
    {
     "name": "stderr",
     "output_type": "stream",
     "text": [
      "\n"
     ]
    }
   ],
   "source": [
    "upscale_image_test(\"ar\")"
   ]
  }
 ],
 "metadata": {
  "kernelspec": {
   "display_name": "base",
   "language": "python",
   "name": "python3"
  },
  "language_info": {
   "codemirror_mode": {
    "name": "ipython",
    "version": 3
   },
   "file_extension": ".py",
   "mimetype": "text/x-python",
   "name": "python",
   "nbconvert_exporter": "python",
   "pygments_lexer": "ipython3",
   "version": "3.11.5"
  }
 },
 "nbformat": 4,
 "nbformat_minor": 2
}
