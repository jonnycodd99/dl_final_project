{
 "cells": [
  {
   "cell_type": "code",
   "execution_count": 4,
   "metadata": {},
   "outputs": [],
   "source": [
    "from PIL import Image\n",
    "import os\n",
    "import rasterio\n",
    "import numpy as np\n",
    "from rasterio.enums import Resampling\n",
    "from tqdm import tqdm"
   ]
  },
  {
   "cell_type": "code",
   "execution_count": 5,
   "metadata": {},
   "outputs": [],
   "source": [
    "def upscale_image_test(folder):\n",
    "    directory = f\"../../data/test/{folder}\"\n",
    "    output_directory = f\"../../data/test_downscaled/{folder}\"\n",
    "    os.makedirs(output_directory, exist_ok=True)\n",
    "\n",
    "    # Loop through each file in the directory\n",
    "    for filename in tqdm(os.listdir(directory), desc=\"Downscaling images\"):\n",
    "        if filename.lower().endswith('.tif') or filename.lower().endswith('.tiff'):\n",
    "            file_path = os.path.join(directory, filename)\n",
    "            # Open the image with rasterio\n",
    "            with rasterio.open(file_path) as src:\n",
    "                # Calculate new dimensions (50% scale)\n",
    "                new_width = 128\n",
    "                new_height = 128\n",
    "\n",
    "                # Update the transformation matrix for the affine transformation of the image\n",
    "                transform = src.transform * src.transform.scale(\n",
    "                    (src.width / new_width),\n",
    "                    (src.height / new_height)\n",
    "                )\n",
    "\n",
    "                # Set the metadata for the output image\n",
    "                profile = src.profile\n",
    "                profile.update({\n",
    "                    'height': new_height,\n",
    "                    'width': new_width,\n",
    "                    'transform': transform\n",
    "                })\n",
    "\n",
    "                all_nan = True  # Assume initially all data is NaN\n",
    "                output_path = os.path.join(output_directory, filename)\n",
    "\n",
    "                # Prepare to store downscaled image data temporarily\n",
    "                downscaled_data = []\n",
    "\n",
    "                # Read and resample the image data\n",
    "                for i in range(1, src.count + 1):\n",
    "                    data = src.read(\n",
    "                        i,\n",
    "                        out_shape=(new_height, new_width),\n",
    "                        resampling=Resampling.bilinear\n",
    "                    )\n",
    "                    # Check if the data contains any non-NaN values\n",
    "                    if not np.all(np.isnan(data)):\n",
    "                        all_nan = False\n",
    "                    downscaled_data.append(data)\n",
    "\n",
    "                # Only write the file if there are non-NaN values\n",
    "                if not all_nan:\n",
    "                    with rasterio.open(output_path, 'w', **profile) as dst:\n",
    "                        for i, data in enumerate(downscaled_data, start=1):\n",
    "                            dst.write(data, i)\n",
    "                else:\n",
    "                    print(f\"Skipped writing {output_path} as all cells are NaN.\")\n",
    "\n",
    "    print(f\"Images have been upscaled and saved in {output_directory} unless all cells were NaN.\")\n"
   ]
  },
  {
   "cell_type": "code",
   "execution_count": 6,
   "metadata": {},
   "outputs": [
    {
     "name": "stderr",
     "output_type": "stream",
     "text": [
      "Downscaling images:   4%|▍         | 19/500 [00:00<00:07, 61.44it/s]"
     ]
    },
    {
     "name": "stdout",
     "output_type": "stream",
     "text": [
      "Skipped writing ../../data/test_downscaled/cat/Sentinel2_Image_Export_446_24_01.tif as all cells are NaN.\n",
      "Skipped writing ../../data/test_downscaled/cat/Sentinel2_Image_Export_208_24_01.tif as all cells are NaN.\n",
      "Skipped writing ../../data/test_downscaled/cat/Sentinel2_Image_Export_7_24_01.tif as all cells are NaN.\n"
     ]
    },
    {
     "name": "stderr",
     "output_type": "stream",
     "text": [
      "Downscaling images:   8%|▊         | 40/500 [00:00<00:05, 81.79it/s]"
     ]
    },
    {
     "name": "stdout",
     "output_type": "stream",
     "text": [
      "Skipped writing ../../data/test_downscaled/cat/Sentinel2_Image_Export_315_24_01.tif as all cells are NaN.\n",
      "Skipped writing ../../data/test_downscaled/cat/Sentinel2_Image_Export_86_24_01.tif as all cells are NaN.\n",
      "Skipped writing ../../data/test_downscaled/cat/Sentinel2_Image_Export_247_24_01.tif as all cells are NaN.\n"
     ]
    },
    {
     "name": "stderr",
     "output_type": "stream",
     "text": [
      "Downscaling images:  14%|█▍        | 69/500 [00:00<00:04, 91.03it/s]"
     ]
    },
    {
     "name": "stdout",
     "output_type": "stream",
     "text": [
      "Skipped writing ../../data/test_downscaled/cat/Sentinel2_Image_Export_318_24_01.tif as all cells are NaN.\n",
      "Skipped writing ../../data/test_downscaled/cat/Sentinel2_Image_Export_283_24_01.tif as all cells are NaN.\n",
      "Skipped writing ../../data/test_downscaled/cat/Sentinel2_Image_Export_189_24_01.tif as all cells are NaN.\n"
     ]
    },
    {
     "name": "stderr",
     "output_type": "stream",
     "text": [
      "Downscaling images:  18%|█▊        | 91/500 [00:01<00:04, 97.43it/s]"
     ]
    },
    {
     "name": "stdout",
     "output_type": "stream",
     "text": [
      "Skipped writing ../../data/test_downscaled/cat/Sentinel2_Image_Export_489_24_01.tif as all cells are NaN.\n",
      "Skipped writing ../../data/test_downscaled/cat/Sentinel2_Image_Export_326_24_01.tif as all cells are NaN.\n",
      "Skipped writing ../../data/test_downscaled/cat/Sentinel2_Image_Export_104_24_01.tif as all cells are NaN.\n",
      "Skipped writing ../../data/test_downscaled/cat/Sentinel2_Image_Export_12_24_01.tif as all cells are NaN.\n"
     ]
    },
    {
     "name": "stderr",
     "output_type": "stream",
     "text": [
      "Downscaling images:  20%|██        | 102/500 [00:01<00:04, 98.27it/s]"
     ]
    },
    {
     "name": "stdout",
     "output_type": "stream",
     "text": [
      "Skipped writing ../../data/test_downscaled/cat/Sentinel2_Image_Export_152_24_01.tif as all cells are NaN.\n",
      "Skipped writing ../../data/test_downscaled/cat/Sentinel2_Image_Export_146_24_01.tif as all cells are NaN.\n"
     ]
    },
    {
     "name": "stderr",
     "output_type": "stream",
     "text": [
      "Downscaling images:  24%|██▍       | 122/500 [00:01<00:04, 83.30it/s]"
     ]
    },
    {
     "name": "stdout",
     "output_type": "stream",
     "text": [
      "Skipped writing ../../data/test_downscaled/cat/Sentinel2_Image_Export_167_24_01.tif as all cells are NaN.\n",
      "Skipped writing ../../data/test_downscaled/cat/Sentinel2_Image_Export_217_24_01.tif as all cells are NaN.\n",
      "Skipped writing ../../data/test_downscaled/cat/Sentinel2_Image_Export_203_24_01.tif as all cells are NaN.\n",
      "Skipped writing ../../data/test_downscaled/cat/Sentinel2_Image_Export_345_24_01.tif as all cells are NaN.\n",
      "Skipped writing ../../data/test_downscaled/cat/Sentinel2_Image_Export_386_24_01.tif as all cells are NaN.\n",
      "Skipped writing ../../data/test_downscaled/cat/Sentinel2_Image_Export_273_24_01.tif as all cells are NaN.\n"
     ]
    },
    {
     "name": "stderr",
     "output_type": "stream",
     "text": [
      "Downscaling images:  31%|███       | 156/500 [00:01<00:03, 98.73it/s]"
     ]
    },
    {
     "name": "stdout",
     "output_type": "stream",
     "text": [
      "Skipped writing ../../data/test_downscaled/cat/Sentinel2_Image_Export_392_24_01.tif as all cells are NaN.\n",
      "Skipped writing ../../data/test_downscaled/cat/Sentinel2_Image_Export_34_24_01.tif as all cells are NaN.\n",
      "Skipped writing ../../data/test_downscaled/cat/Sentinel2_Image_Export_228_24_01.tif as all cells are NaN.\n",
      "Skipped writing ../../data/test_downscaled/cat/Sentinel2_Image_Export_87_24_01.tif as all cells are NaN.\n",
      "Skipped writing ../../data/test_downscaled/cat/Sentinel2_Image_Export_408_24_01.tif as all cells are NaN.\n",
      "Skipped writing ../../data/test_downscaled/cat/Sentinel2_Image_Export_18_24_01.tif as all cells are NaN.\n"
     ]
    },
    {
     "name": "stderr",
     "output_type": "stream",
     "text": [
      "Downscaling images:  36%|███▌      | 178/500 [00:02<00:03, 99.34it/s] "
     ]
    },
    {
     "name": "stdout",
     "output_type": "stream",
     "text": [
      "Skipped writing ../../data/test_downscaled/cat/Sentinel2_Image_Export_76_24_01.tif as all cells are NaN.\n",
      "Skipped writing ../../data/test_downscaled/cat/Sentinel2_Image_Export_430_24_01.tif as all cells are NaN.\n",
      "Skipped writing ../../data/test_downscaled/cat/Sentinel2_Image_Export_188_24_01.tif as all cells are NaN.\n",
      "Skipped writing ../../data/test_downscaled/cat/Sentinel2_Image_Export_377_24_01.tif as all cells are NaN.\n",
      "Skipped writing ../../data/test_downscaled/cat/Sentinel2_Image_Export_155_24_01.tif as all cells are NaN.\n",
      "Skipped writing ../../data/test_downscaled/cat/Sentinel2_Image_Export_296_24_01.tif as all cells are NaN.\n"
     ]
    },
    {
     "name": "stderr",
     "output_type": "stream",
     "text": [
      "Downscaling images:  40%|████      | 200/500 [00:02<00:02, 101.12it/s]"
     ]
    },
    {
     "name": "stdout",
     "output_type": "stream",
     "text": [
      "Skipped writing ../../data/test_downscaled/cat/Sentinel2_Image_Export_95_24_01.tif as all cells are NaN.\n",
      "Skipped writing ../../data/test_downscaled/cat/Sentinel2_Image_Export_124_24_01.tif as all cells are NaN.\n"
     ]
    },
    {
     "name": "stderr",
     "output_type": "stream",
     "text": [
      "Downscaling images:  44%|████▍     | 222/500 [00:02<00:02, 98.43it/s] "
     ]
    },
    {
     "name": "stdout",
     "output_type": "stream",
     "text": [
      "Skipped writing ../../data/test_downscaled/cat/Sentinel2_Image_Export_455_24_01.tif as all cells are NaN.\n",
      "Skipped writing ../../data/test_downscaled/cat/Sentinel2_Image_Export_147_24_01.tif as all cells are NaN.\n",
      "Skipped writing ../../data/test_downscaled/cat/Sentinel2_Image_Export_45_24_01.tif as all cells are NaN.\n",
      "Skipped writing ../../data/test_downscaled/cat/Sentinel2_Image_Export_129_24_01.tif as all cells are NaN.\n"
     ]
    },
    {
     "name": "stderr",
     "output_type": "stream",
     "text": [
      "Downscaling images:  49%|████▉     | 244/500 [00:02<00:02, 101.67it/s]"
     ]
    },
    {
     "name": "stdout",
     "output_type": "stream",
     "text": [
      "Skipped writing ../../data/test_downscaled/cat/Sentinel2_Image_Export_223_24_01.tif as all cells are NaN.\n",
      "Skipped writing ../../data/test_downscaled/cat/Sentinel2_Image_Export_422_24_01.tif as all cells are NaN.\n",
      "Skipped writing ../../data/test_downscaled/cat/Sentinel2_Image_Export_172_24_01.tif as all cells are NaN.\n"
     ]
    },
    {
     "name": "stderr",
     "output_type": "stream",
     "text": [
      "Downscaling images:  58%|█████▊    | 288/500 [00:03<00:02, 100.79it/s]"
     ]
    },
    {
     "name": "stdout",
     "output_type": "stream",
     "text": [
      "Skipped writing ../../data/test_downscaled/cat/Sentinel2_Image_Export_78_24_01.tif as all cells are NaN.\n",
      "Skipped writing ../../data/test_downscaled/cat/Sentinel2_Image_Export_114_24_01.tif as all cells are NaN.\n",
      "Skipped writing ../../data/test_downscaled/cat/Sentinel2_Image_Export_16_24_01.tif as all cells are NaN.\n",
      "Skipped writing ../../data/test_downscaled/cat/Sentinel2_Image_Export_100_24_01.tif as all cells are NaN.\n",
      "Skipped writing ../../data/test_downscaled/cat/Sentinel2_Image_Export_156_24_01.tif as all cells are NaN.\n",
      "Skipped writing ../../data/test_downscaled/cat/Sentinel2_Image_Export_89_24_01.tif as all cells are NaN.\n",
      "Skipped writing ../../data/test_downscaled/cat/Sentinel2_Image_Export_138_24_01.tif as all cells are NaN.\n"
     ]
    },
    {
     "name": "stderr",
     "output_type": "stream",
     "text": [
      "Downscaling images:  62%|██████▏   | 311/500 [00:03<00:01, 103.86it/s]"
     ]
    },
    {
     "name": "stdout",
     "output_type": "stream",
     "text": [
      "Skipped writing ../../data/test_downscaled/cat/Sentinel2_Image_Export_54_24_01.tif as all cells are NaN.\n",
      "Skipped writing ../../data/test_downscaled/cat/Sentinel2_Image_Export_269_24_01.tif as all cells are NaN.\n",
      "Skipped writing ../../data/test_downscaled/cat/Sentinel2_Image_Export_480_24_01.tif as all cells are NaN.\n"
     ]
    },
    {
     "name": "stderr",
     "output_type": "stream",
     "text": [
      "Downscaling images:  67%|██████▋   | 334/500 [00:03<00:01, 103.71it/s]"
     ]
    },
    {
     "name": "stdout",
     "output_type": "stream",
     "text": [
      "Skipped writing ../../data/test_downscaled/cat/Sentinel2_Image_Export_438_24_01.tif as all cells are NaN.\n",
      "Skipped writing ../../data/test_downscaled/cat/Sentinel2_Image_Export_276_24_01.tif as all cells are NaN.\n",
      "Skipped writing ../../data/test_downscaled/cat/Sentinel2_Image_Export_106_24_01.tif as all cells are NaN.\n",
      "Skipped writing ../../data/test_downscaled/cat/Sentinel2_Image_Export_127_24_01.tif as all cells are NaN.\n"
     ]
    },
    {
     "name": "stderr",
     "output_type": "stream",
     "text": [
      "Downscaling images:  73%|███████▎  | 367/500 [00:03<00:01, 100.58it/s]"
     ]
    },
    {
     "name": "stdout",
     "output_type": "stream",
     "text": [
      "Skipped writing ../../data/test_downscaled/cat/Sentinel2_Image_Export_96_24_01.tif as all cells are NaN.\n",
      "Skipped writing ../../data/test_downscaled/cat/Sentinel2_Image_Export_353_24_01.tif as all cells are NaN.\n",
      "Skipped writing ../../data/test_downscaled/cat/Sentinel2_Image_Export_421_24_01.tif as all cells are NaN.\n",
      "Skipped writing ../../data/test_downscaled/cat/Sentinel2_Image_Export_347_24_01.tif as all cells are NaN.\n"
     ]
    },
    {
     "name": "stderr",
     "output_type": "stream",
     "text": [
      "Downscaling images:  78%|███████▊  | 389/500 [00:04<00:01, 102.84it/s]"
     ]
    },
    {
     "name": "stdout",
     "output_type": "stream",
     "text": [
      "Skipped writing ../../data/test_downscaled/cat/Sentinel2_Image_Export_234_24_01.tif as all cells are NaN.\n",
      "Skipped writing ../../data/test_downscaled/cat/Sentinel2_Image_Export_52_24_01.tif as all cells are NaN.\n",
      "Skipped writing ../../data/test_downscaled/cat/Sentinel2_Image_Export_134_24_01.tif as all cells are NaN.\n",
      "Skipped writing ../../data/test_downscaled/cat/Sentinel2_Image_Export_58_24_01.tif as all cells are NaN.\n",
      "Skipped writing ../../data/test_downscaled/cat/Sentinel2_Image_Export_4_24_01.tif as all cells are NaN.\n",
      "Skipped writing ../../data/test_downscaled/cat/Sentinel2_Image_Export_299_24_01.tif as all cells are NaN.\n",
      "Skipped writing ../../data/test_downscaled/cat/Sentinel2_Image_Export_250_24_01.tif as all cells are NaN.\n"
     ]
    },
    {
     "name": "stderr",
     "output_type": "stream",
     "text": [
      "Downscaling images:  84%|████████▍ | 422/500 [00:04<00:00, 102.03it/s]"
     ]
    },
    {
     "name": "stdout",
     "output_type": "stream",
     "text": [
      "Skipped writing ../../data/test_downscaled/cat/Sentinel2_Image_Export_79_24_01.tif as all cells are NaN.\n",
      "Skipped writing ../../data/test_downscaled/cat/Sentinel2_Image_Export_265_24_01.tif as all cells are NaN.\n",
      "Skipped writing ../../data/test_downscaled/cat/Sentinel2_Image_Export_445_24_01.tif as all cells are NaN.\n",
      "Skipped writing ../../data/test_downscaled/cat/Sentinel2_Image_Export_157_24_01.tif as all cells are NaN.\n",
      "Skipped writing ../../data/test_downscaled/cat/Sentinel2_Image_Export_41_24_01.tif as all cells are NaN.\n"
     ]
    },
    {
     "name": "stderr",
     "output_type": "stream",
     "text": [
      "Downscaling images:  89%|████████▉ | 444/500 [00:04<00:00, 101.25it/s]"
     ]
    },
    {
     "name": "stdout",
     "output_type": "stream",
     "text": [
      "Skipped writing ../../data/test_downscaled/cat/Sentinel2_Image_Export_268_24_01.tif as all cells are NaN.\n",
      "Skipped writing ../../data/test_downscaled/cat/Sentinel2_Image_Export_162_24_01.tif as all cells are NaN.\n",
      "Skipped writing ../../data/test_downscaled/cat/Sentinel2_Image_Export_263_24_01.tif as all cells are NaN.\n"
     ]
    },
    {
     "name": "stderr",
     "output_type": "stream",
     "text": [
      "Downscaling images:  96%|█████████▌| 478/500 [00:05<00:00, 102.82it/s]"
     ]
    },
    {
     "name": "stdout",
     "output_type": "stream",
     "text": [
      "Skipped writing ../../data/test_downscaled/cat/Sentinel2_Image_Export_238_24_01.tif as all cells are NaN.\n",
      "Skipped writing ../../data/test_downscaled/cat/Sentinel2_Image_Export_132_24_01.tif as all cells are NaN.\n",
      "Skipped writing ../../data/test_downscaled/cat/Sentinel2_Image_Export_256_24_01.tif as all cells are NaN.\n",
      "Skipped writing ../../data/test_downscaled/cat/Sentinel2_Image_Export_420_24_01.tif as all cells are NaN.\n",
      "Skipped writing ../../data/test_downscaled/cat/Sentinel2_Image_Export_346_24_01.tif as all cells are NaN.\n"
     ]
    },
    {
     "name": "stderr",
     "output_type": "stream",
     "text": [
      "Downscaling images: 100%|██████████| 500/500 [00:05<00:00, 95.45it/s] "
     ]
    },
    {
     "name": "stdout",
     "output_type": "stream",
     "text": [
      "Skipped writing ../../data/test_downscaled/cat/Sentinel2_Image_Export_487_24_01.tif as all cells are NaN.\n",
      "Skipped writing ../../data/test_downscaled/cat/Sentinel2_Image_Export_235_24_01.tif as all cells are NaN.\n",
      "Skipped writing ../../data/test_downscaled/cat/Sentinel2_Image_Export_373_24_01.tif as all cells are NaN.\n",
      "Skipped writing ../../data/test_downscaled/cat/Sentinel2_Image_Export_415_24_01.tif as all cells are NaN.\n",
      "Images have been upscaled and saved in ../../data/test_downscaled/cat unless all cells were NaN.\n"
     ]
    },
    {
     "name": "stderr",
     "output_type": "stream",
     "text": [
      "\n"
     ]
    }
   ],
   "source": [
    "upscale_image_test(\"cat\")"
   ]
  },
  {
   "cell_type": "code",
   "execution_count": 7,
   "metadata": {},
   "outputs": [
    {
     "name": "stderr",
     "output_type": "stream",
     "text": [
      "Downscaling images:   5%|▍         | 23/499 [00:00<00:04, 106.61it/s]"
     ]
    },
    {
     "name": "stdout",
     "output_type": "stream",
     "text": [
      "Skipped writing ../../data/test_downscaled/ar/Sentinel2_Image_Export_208_24_01.tif as all cells are NaN.\n",
      "Skipped writing ../../data/test_downscaled/ar/Sentinel2_Image_Export_178_24_01.tif as all cells are NaN.\n",
      "Skipped writing ../../data/test_downscaled/ar/Sentinel2_Image_Export_102_24_01.tif as all cells are NaN.\n",
      "Skipped writing ../../data/test_downscaled/ar/Sentinel2_Image_Export_272_24_01.tif as all cells are NaN.\n",
      "Skipped writing ../../data/test_downscaled/ar/Sentinel2_Image_Export_190_24_01.tif as all cells are NaN.\n",
      "Skipped writing ../../data/test_downscaled/ar/Sentinel2_Image_Export_7_24_01.tif as all cells are NaN.\n"
     ]
    },
    {
     "name": "stderr",
     "output_type": "stream",
     "text": [
      "Downscaling images:   9%|▉         | 47/499 [00:00<00:04, 112.71it/s]"
     ]
    },
    {
     "name": "stdout",
     "output_type": "stream",
     "text": [
      "Skipped writing ../../data/test_downscaled/ar/Sentinel2_Image_Export_21_24_01.tif as all cells are NaN.\n",
      "Skipped writing ../../data/test_downscaled/ar/Sentinel2_Image_Export_77_24_01.tif as all cells are NaN.\n",
      "Skipped writing ../../data/test_downscaled/ar/Sentinel2_Image_Export_482_24_01.tif as all cells are NaN.\n",
      "Skipped writing ../../data/test_downscaled/ar/Sentinel2_Image_Export_161_24_01.tif as all cells are NaN.\n",
      "Skipped writing ../../data/test_downscaled/ar/Sentinel2_Image_Export_175_24_01.tif as all cells are NaN.\n",
      "Skipped writing ../../data/test_downscaled/ar/Sentinel2_Image_Export_19_24_01.tif as all cells are NaN.\n",
      "Skipped writing ../../data/test_downscaled/ar/Sentinel2_Image_Export_205_24_01.tif as all cells are NaN.\n",
      "Skipped writing ../../data/test_downscaled/ar/Sentinel2_Image_Export_42_24_01.tif as all cells are NaN.\n",
      "Skipped writing ../../data/test_downscaled/ar/Sentinel2_Image_Export_318_24_01.tif as all cells are NaN.\n",
      "Skipped writing ../../data/test_downscaled/ar/Sentinel2_Image_Export_56_24_01.tif as all cells are NaN.\n"
     ]
    },
    {
     "name": "stderr",
     "output_type": "stream",
     "text": [
      "Downscaling images:  14%|█▍        | 72/499 [00:00<00:03, 113.83it/s]"
     ]
    },
    {
     "name": "stdout",
     "output_type": "stream",
     "text": [
      "Skipped writing ../../data/test_downscaled/ar/Sentinel2_Image_Export_189_24_01.tif as all cells are NaN.\n",
      "Skipped writing ../../data/test_downscaled/ar/Sentinel2_Image_Export_80_24_01.tif as all cells are NaN.\n",
      "Skipped writing ../../data/test_downscaled/ar/Sentinel2_Image_Export_125_24_01.tif as all cells are NaN.\n",
      "Skipped writing ../../data/test_downscaled/ar/Sentinel2_Image_Export_33_24_01.tif as all cells are NaN.\n",
      "Skipped writing ../../data/test_downscaled/ar/Sentinel2_Image_Export_461_24_01.tif as all cells are NaN.\n",
      "Skipped writing ../../data/test_downscaled/ar/Sentinel2_Image_Export_182_24_01.tif as all cells are NaN.\n",
      "Skipped writing ../../data/test_downscaled/ar/Sentinel2_Image_Export_489_24_01.tif as all cells are NaN.\n",
      "Skipped writing ../../data/test_downscaled/ar/Sentinel2_Image_Export_440_24_01.tif as all cells are NaN.\n"
     ]
    },
    {
     "name": "stderr",
     "output_type": "stream",
     "text": [
      "Downscaling images:  24%|██▍       | 120/499 [00:01<00:03, 107.82it/s]"
     ]
    },
    {
     "name": "stdout",
     "output_type": "stream",
     "text": [
      "Skipped writing ../../data/test_downscaled/ar/Sentinel2_Image_Export_152_24_01.tif as all cells are NaN.\n",
      "Skipped writing ../../data/test_downscaled/ar/Sentinel2_Image_Export_146_24_01.tif as all cells are NaN.\n",
      "Skipped writing ../../data/test_downscaled/ar/Sentinel2_Image_Export_236_24_01.tif as all cells are NaN.\n",
      "Skipped writing ../../data/test_downscaled/ar/Sentinel2_Image_Export_99_24_01.tif as all cells are NaN.\n",
      "Skipped writing ../../data/test_downscaled/ar/Sentinel2_Image_Export_217_24_01.tif as all cells are NaN.\n",
      "Skipped writing ../../data/test_downscaled/ar/Sentinel2_Image_Export_423_24_01.tif as all cells are NaN.\n"
     ]
    },
    {
     "name": "stderr",
     "output_type": "stream",
     "text": [
      "Downscaling images:  29%|██▉       | 144/499 [00:01<00:03, 109.92it/s]"
     ]
    },
    {
     "name": "stdout",
     "output_type": "stream",
     "text": [
      "Skipped writing ../../data/test_downscaled/ar/Sentinel2_Image_Export_179_24_01.tif as all cells are NaN.\n",
      "Skipped writing ../../data/test_downscaled/ar/Sentinel2_Image_Export_453_24_01.tif as all cells are NaN.\n",
      "Skipped writing ../../data/test_downscaled/ar/Sentinel2_Image_Export_273_24_01.tif as all cells are NaN.\n",
      "Skipped writing ../../data/test_downscaled/ar/Sentinel2_Image_Export_267_24_01.tif as all cells are NaN.\n",
      "Skipped writing ../../data/test_downscaled/ar/Sentinel2_Image_Export_447_24_01.tif as all cells are NaN.\n",
      "Skipped writing ../../data/test_downscaled/ar/Sentinel2_Image_Export_246_24_01.tif as all cells are NaN.\n"
     ]
    },
    {
     "name": "stderr",
     "output_type": "stream",
     "text": [
      "Downscaling images:  34%|███▎      | 168/499 [00:01<00:02, 110.96it/s]"
     ]
    },
    {
     "name": "stdout",
     "output_type": "stream",
     "text": [
      "Skipped writing ../../data/test_downscaled/ar/Sentinel2_Image_Export_34_24_01.tif as all cells are NaN.\n",
      "Skipped writing ../../data/test_downscaled/ar/Sentinel2_Image_Export_228_24_01.tif as all cells are NaN.\n",
      "Skipped writing ../../data/test_downscaled/ar/Sentinel2_Image_Export_122_24_01.tif as all cells are NaN.\n",
      "Skipped writing ../../data/test_downscaled/ar/Sentinel2_Image_Export_18_24_01.tif as all cells are NaN.\n",
      "Skipped writing ../../data/test_downscaled/ar/Sentinel2_Image_Export_62_24_01.tif as all cells are NaN.\n",
      "Skipped writing ../../data/test_downscaled/ar/Sentinel2_Image_Export_430_24_01.tif as all cells are NaN.\n",
      "Skipped writing ../../data/test_downscaled/ar/Sentinel2_Image_Export_210_24_01.tif as all cells are NaN.\n",
      "Skipped writing ../../data/test_downscaled/ar/Sentinel2_Image_Export_57_24_01.tif as all cells are NaN.\n",
      "Skipped writing ../../data/test_downscaled/ar/Sentinel2_Image_Export_141_24_01.tif as all cells are NaN.\n"
     ]
    },
    {
     "name": "stderr",
     "output_type": "stream",
     "text": [
      "Downscaling images:  39%|███▉      | 194/499 [00:01<00:02, 115.97it/s]"
     ]
    },
    {
     "name": "stdout",
     "output_type": "stream",
     "text": [
      "Skipped writing ../../data/test_downscaled/ar/Sentinel2_Image_Export_188_24_01.tif as all cells are NaN.\n",
      "Skipped writing ../../data/test_downscaled/ar/Sentinel2_Image_Export_231_24_01.tif as all cells are NaN.\n",
      "Skipped writing ../../data/test_downscaled/ar/Sentinel2_Image_Export_405_24_01.tif as all cells are NaN.\n",
      "Skipped writing ../../data/test_downscaled/ar/Sentinel2_Image_Export_43_24_01.tif as all cells are NaN.\n",
      "Skipped writing ../../data/test_downscaled/ar/Sentinel2_Image_Export_460_24_01.tif as all cells are NaN.\n",
      "Skipped writing ../../data/test_downscaled/ar/Sentinel2_Image_Export_95_24_01.tif as all cells are NaN.\n"
     ]
    },
    {
     "name": "stderr",
     "output_type": "stream",
     "text": [
      "Downscaling images:  44%|████▍     | 219/499 [00:01<00:02, 117.19it/s]"
     ]
    },
    {
     "name": "stdout",
     "output_type": "stream",
     "text": [
      "Skipped writing ../../data/test_downscaled/ar/Sentinel2_Image_Export_105_24_01.tif as all cells are NaN.\n",
      "Skipped writing ../../data/test_downscaled/ar/Sentinel2_Image_Export_275_24_01.tif as all cells are NaN.\n",
      "Skipped writing ../../data/test_downscaled/ar/Sentinel2_Image_Export_69_24_01.tif as all cells are NaN.\n",
      "Skipped writing ../../data/test_downscaled/ar/Sentinel2_Image_Export_488_24_01.tif as all cells are NaN.\n",
      "Skipped writing ../../data/test_downscaled/ar/Sentinel2_Image_Export_441_24_01.tif as all cells are NaN.\n",
      "Skipped writing ../../data/test_downscaled/ar/Sentinel2_Image_Export_261_24_01.tif as all cells are NaN.\n",
      "Skipped writing ../../data/test_downscaled/ar/Sentinel2_Image_Export_327_24_01.tif as all cells are NaN.\n",
      "Skipped writing ../../data/test_downscaled/ar/Sentinel2_Image_Export_417_24_01.tif as all cells are NaN.\n",
      "Skipped writing ../../data/test_downscaled/ar/Sentinel2_Image_Export_403_24_01.tif as all cells are NaN.\n",
      "Skipped writing ../../data/test_downscaled/ar/Sentinel2_Image_Export_365_24_01.tif as all cells are NaN.\n"
     ]
    },
    {
     "name": "stderr",
     "output_type": "stream",
     "text": [
      "Downscaling images:  51%|█████     | 255/499 [00:02<00:02, 111.86it/s]"
     ]
    },
    {
     "name": "stdout",
     "output_type": "stream",
     "text": [
      "Skipped writing ../../data/test_downscaled/ar/Sentinel2_Image_Export_172_24_01.tif as all cells are NaN.\n",
      "Skipped writing ../../data/test_downscaled/ar/Sentinel2_Image_Export_350_24_01.tif as all cells are NaN.\n",
      "Skipped writing ../../data/test_downscaled/ar/Sentinel2_Image_Export_485_24_01.tif as all cells are NaN.\n",
      "Skipped writing ../../data/test_downscaled/ar/Sentinel2_Image_Export_70_24_01.tif as all cells are NaN.\n"
     ]
    },
    {
     "name": "stderr",
     "output_type": "stream",
     "text": [
      "Downscaling images:  56%|█████▋    | 281/499 [00:02<00:01, 115.91it/s]"
     ]
    },
    {
     "name": "stdout",
     "output_type": "stream",
     "text": [
      "Skipped writing ../../data/test_downscaled/ar/Sentinel2_Image_Export_186_24_01.tif as all cells are NaN.\n",
      "Skipped writing ../../data/test_downscaled/ar/Sentinel2_Image_Export_78_24_01.tif as all cells are NaN.\n",
      "Skipped writing ../../data/test_downscaled/ar/Sentinel2_Image_Export_114_24_01.tif as all cells are NaN.\n",
      "Skipped writing ../../data/test_downscaled/ar/Sentinel2_Image_Export_322_24_01.tif as all cells are NaN.\n",
      "Skipped writing ../../data/test_downscaled/ar/Sentinel2_Image_Export_358_24_01.tif as all cells are NaN.\n",
      "Skipped writing ../../data/test_downscaled/ar/Sentinel2_Image_Export_100_24_01.tif as all cells are NaN.\n",
      "Skipped writing ../../data/test_downscaled/ar/Sentinel2_Image_Export_270_24_01.tif as all cells are NaN.\n",
      "Skipped writing ../../data/test_downscaled/ar/Sentinel2_Image_Export_8_24_01.tif as all cells are NaN.\n",
      "Skipped writing ../../data/test_downscaled/ar/Sentinel2_Image_Export_138_24_01.tif as all cells are NaN.\n",
      "Skipped writing ../../data/test_downscaled/ar/Sentinel2_Image_Export_412_24_01.tif as all cells are NaN.\n"
     ]
    },
    {
     "name": "stderr",
     "output_type": "stream",
     "text": [
      "Downscaling images:  64%|██████▎   | 317/499 [00:02<00:01, 109.96it/s]"
     ]
    },
    {
     "name": "stdout",
     "output_type": "stream",
     "text": [
      "Skipped writing ../../data/test_downscaled/ar/Sentinel2_Image_Export_119_24_01.tif as all cells are NaN.\n",
      "Skipped writing ../../data/test_downscaled/ar/Sentinel2_Image_Export_75_24_01.tif as all cells are NaN.\n",
      "Skipped writing ../../data/test_downscaled/ar/Sentinel2_Image_Export_355_24_01.tif as all cells are NaN.\n",
      "Skipped writing ../../data/test_downscaled/ar/Sentinel2_Image_Export_341_24_01.tif as all cells are NaN.\n",
      "Skipped writing ../../data/test_downscaled/ar/Sentinel2_Image_Export_112_24_01.tif as all cells are NaN.\n"
     ]
    },
    {
     "name": "stderr",
     "output_type": "stream",
     "text": [
      "Downscaling images:  68%|██████▊   | 340/499 [00:03<00:01, 105.66it/s]"
     ]
    },
    {
     "name": "stdout",
     "output_type": "stream",
     "text": [
      "Skipped writing ../../data/test_downscaled/ar/Sentinel2_Image_Export_456_24_01.tif as all cells are NaN.\n",
      "Skipped writing ../../data/test_downscaled/ar/Sentinel2_Image_Export_257_24_01.tif as all cells are NaN.\n",
      "Skipped writing ../../data/test_downscaled/ar/Sentinel2_Image_Export_305_24_01.tif as all cells are NaN.\n",
      "Skipped writing ../../data/test_downscaled/ar/Sentinel2_Image_Export_133_24_01.tif as all cells are NaN.\n"
     ]
    },
    {
     "name": "stderr",
     "output_type": "stream",
     "text": [
      "Downscaling images:  75%|███████▌  | 376/499 [00:03<00:01, 111.54it/s]"
     ]
    },
    {
     "name": "stdout",
     "output_type": "stream",
     "text": [
      "Skipped writing ../../data/test_downscaled/ar/Sentinel2_Image_Export_492_24_01.tif as all cells are NaN.\n",
      "Skipped writing ../../data/test_downscaled/ar/Sentinel2_Image_Export_150_24_01.tif as all cells are NaN.\n",
      "Skipped writing ../../data/test_downscaled/ar/Sentinel2_Image_Export_28_24_01.tif as all cells are NaN.\n",
      "Skipped writing ../../data/test_downscaled/ar/Sentinel2_Image_Export_287_24_01.tif as all cells are NaN.\n",
      "Skipped writing ../../data/test_downscaled/ar/Sentinel2_Image_Export_414_24_01.tif as all cells are NaN.\n",
      "Skipped writing ../../data/test_downscaled/ar/Sentinel2_Image_Export_302_24_01.tif as all cells are NaN.\n",
      "Skipped writing ../../data/test_downscaled/ar/Sentinel2_Image_Export_22_24_01.tif as all cells are NaN.\n",
      "Skipped writing ../../data/test_downscaled/ar/Sentinel2_Image_Export_464_24_01.tif as all cells are NaN.\n"
     ]
    },
    {
     "name": "stderr",
     "output_type": "stream",
     "text": [
      "Downscaling images:  80%|████████  | 400/499 [00:03<00:00, 109.68it/s]"
     ]
    },
    {
     "name": "stdout",
     "output_type": "stream",
     "text": [
      "Skipped writing ../../data/test_downscaled/ar/Sentinel2_Image_Export_36_24_01.tif as all cells are NaN.\n",
      "Skipped writing ../../data/test_downscaled/ar/Sentinel2_Image_Export_498_24_01.tif as all cells are NaN.\n",
      "Skipped writing ../../data/test_downscaled/ar/Sentinel2_Image_Export_115_24_01.tif as all cells are NaN.\n"
     ]
    },
    {
     "name": "stderr",
     "output_type": "stream",
     "text": [
      "Downscaling images:  87%|████████▋ | 436/499 [00:03<00:00, 106.71it/s]"
     ]
    },
    {
     "name": "stdout",
     "output_type": "stream",
     "text": [
      "Skipped writing ../../data/test_downscaled/ar/Sentinel2_Image_Export_233_24_01.tif as all cells are NaN.\n",
      "Skipped writing ../../data/test_downscaled/ar/Sentinel2_Image_Export_361_24_01.tif as all cells are NaN.\n",
      "Skipped writing ../../data/test_downscaled/ar/Sentinel2_Image_Export_157_24_01.tif as all cells are NaN.\n",
      "Skipped writing ../../data/test_downscaled/ar/Sentinel2_Image_Export_88_24_01.tif as all cells are NaN.\n",
      "Skipped writing ../../data/test_downscaled/ar/Sentinel2_Image_Export_206_24_01.tif as all cells are NaN.\n",
      "Skipped writing ../../data/test_downscaled/ar/Sentinel2_Image_Export_268_24_01.tif as all cells are NaN.\n",
      "Skipped writing ../../data/test_downscaled/ar/Sentinel2_Image_Export_481_24_01.tif as all cells are NaN.\n",
      "Skipped writing ../../data/test_downscaled/ar/Sentinel2_Image_Export_162_24_01.tif as all cells are NaN.\n",
      "Skipped writing ../../data/test_downscaled/ar/Sentinel2_Image_Export_212_24_01.tif as all cells are NaN.\n"
     ]
    },
    {
     "name": "stderr",
     "output_type": "stream",
     "text": [
      "Downscaling images:  92%|█████████▏| 461/499 [00:04<00:00, 113.59it/s]"
     ]
    },
    {
     "name": "stdout",
     "output_type": "stream",
     "text": [
      "Skipped writing ../../data/test_downscaled/ar/Sentinel2_Image_Export_107_24_01.tif as all cells are NaN.\n",
      "Skipped writing ../../data/test_downscaled/ar/Sentinel2_Image_Export_457_24_01.tif as all cells are NaN.\n",
      "Skipped writing ../../data/test_downscaled/ar/Sentinel2_Image_Export_169_24_01.tif as all cells are NaN.\n",
      "Skipped writing ../../data/test_downscaled/ar/Sentinel2_Image_Export_439_24_01.tif as all cells are NaN.\n",
      "Skipped writing ../../data/test_downscaled/ar/Sentinel2_Image_Export_24_24_01.tif as all cells are NaN.\n",
      "Skipped writing ../../data/test_downscaled/ar/Sentinel2_Image_Export_97_24_01.tif as all cells are NaN.\n",
      "Skipped writing ../../data/test_downscaled/ar/Sentinel2_Image_Export_132_24_01.tif as all cells are NaN.\n",
      "Skipped writing ../../data/test_downscaled/ar/Sentinel2_Image_Export_126_24_01.tif as all cells are NaN.\n"
     ]
    },
    {
     "name": "stderr",
     "output_type": "stream",
     "text": [
      "Downscaling images:  97%|█████████▋| 486/499 [00:04<00:00, 116.45it/s]"
     ]
    },
    {
     "name": "stdout",
     "output_type": "stream",
     "text": [
      "Skipped writing ../../data/test_downscaled/ar/Sentinel2_Image_Export_256_24_01.tif as all cells are NaN.\n",
      "Skipped writing ../../data/test_downscaled/ar/Sentinel2_Image_Export_195_24_01.tif as all cells are NaN.\n",
      "Skipped writing ../../data/test_downscaled/ar/Sentinel2_Image_Export_66_24_01.tif as all cells are NaN.\n",
      "Skipped writing ../../data/test_downscaled/ar/Sentinel2_Image_Export_493_24_01.tif as all cells are NaN.\n",
      "Skipped writing ../../data/test_downscaled/ar/Sentinel2_Image_Export_214_24_01.tif as all cells are NaN.\n",
      "Skipped writing ../../data/test_downscaled/ar/Sentinel2_Image_Export_352_24_01.tif as all cells are NaN.\n"
     ]
    },
    {
     "name": "stderr",
     "output_type": "stream",
     "text": [
      "Downscaling images: 100%|██████████| 499/499 [00:04<00:00, 111.30it/s]"
     ]
    },
    {
     "name": "stdout",
     "output_type": "stream",
     "text": [
      "Skipped writing ../../data/test_downscaled/ar/Sentinel2_Image_Export_286_24_01.tif as all cells are NaN.\n",
      "Skipped writing ../../data/test_downscaled/ar/Sentinel2_Image_Export_47_24_01.tif as all cells are NaN.\n",
      "Skipped writing ../../data/test_downscaled/ar/Sentinel2_Image_Export_221_24_01.tif as all cells are NaN.\n",
      "Images have been upscaled and saved in ../../data/test_downscaled/ar unless all cells were NaN.\n"
     ]
    },
    {
     "name": "stderr",
     "output_type": "stream",
     "text": [
      "\n"
     ]
    }
   ],
   "source": [
    "upscale_image_test(\"ar\")"
   ]
  }
 ],
 "metadata": {
  "kernelspec": {
   "display_name": "base",
   "language": "python",
   "name": "python3"
  },
  "language_info": {
   "codemirror_mode": {
    "name": "ipython",
    "version": 3
   },
   "file_extension": ".py",
   "mimetype": "text/x-python",
   "name": "python",
   "nbconvert_exporter": "python",
   "pygments_lexer": "ipython3",
   "version": "3.11.5"
  }
 },
 "nbformat": 4,
 "nbformat_minor": 2
}
