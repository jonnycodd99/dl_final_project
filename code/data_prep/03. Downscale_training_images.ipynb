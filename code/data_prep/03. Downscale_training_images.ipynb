{
 "cells": [
  {
   "cell_type": "code",
   "execution_count": 1,
   "metadata": {},
   "outputs": [],
   "source": [
    "import os\n",
    "from PIL import Image\n",
    "from tqdm import tqdm"
   ]
  },
  {
   "cell_type": "code",
   "execution_count": 2,
   "metadata": {},
   "outputs": [],
   "source": [
    "def downscale_image(folder):\n",
    "    directory = f\"../../data/sentinal_training/{folder}\"\n",
    "    \n",
    "    output_directory = f\"../../data/sentinal_training_downscaled/{folder}\"\n",
    "    os.makedirs(output_directory, exist_ok=True)\n",
    "\n",
    "    # Loop through each file in the directory\n",
    "    for filename in tqdm(os.listdir(directory), desc=\"Downscaling images\"):\n",
    "        if filename.endswith((\".jpg\", \".png\", \".jpeg\")):  # check for image files\n",
    "            file_path = os.path.join(directory, filename)\n",
    "            image = Image.open(file_path)\n",
    "            \n",
    "            # Get original dimensions\n",
    "            original_width, original_height = image.size\n",
    "            \n",
    "            # Calculate new dimensions\n",
    "            new_width = original_width // 20\n",
    "            new_height = original_height // 20\n",
    "            \n",
    "            # Downscale the image\n",
    "            downscaled_image = image.resize((new_width, new_height), Image.LANCZOS)\n",
    "\n",
    "            # Upscale to 128x128\n",
    "            upscaled_image = downscaled_image.resize((128, 128), Image.LANCZOS)\n",
    "            \n",
    "            # Change file extension to .tif for TIFF format\n",
    "            new_filename = os.path.splitext(filename)[0] + '.tif'\n",
    "            output_path = os.path.join(output_directory, new_filename)\n",
    "            \n",
    "            # Save the downscaled image in TIFF format\n",
    "            downscaled_image.save(output_path, format='TIFF')\n",
    "\n",
    "    print(\"All images have been downscaled and saved to\", output_directory)\n"
   ]
  },
  {
   "cell_type": "code",
   "execution_count": 3,
   "metadata": {},
   "outputs": [
    {
     "name": "stderr",
     "output_type": "stream",
     "text": [
      "Downscaling images: 100%|██████████| 1606/1606 [02:39<00:00, 10.10it/s]"
     ]
    },
    {
     "name": "stdout",
     "output_type": "stream",
     "text": [
      "All images have been downscaled and saved to ../../data/sentinal_training_downscaled/data\n"
     ]
    },
    {
     "name": "stderr",
     "output_type": "stream",
     "text": [
      "\n"
     ]
    }
   ],
   "source": [
    "downscale_image(\"data\")"
   ]
  }
 ],
 "metadata": {
  "kernelspec": {
   "display_name": "base",
   "language": "python",
   "name": "python3"
  },
  "language_info": {
   "codemirror_mode": {
    "name": "ipython",
    "version": 3
   },
   "file_extension": ".py",
   "mimetype": "text/x-python",
   "name": "python",
   "nbconvert_exporter": "python",
   "pygments_lexer": "ipython3",
   "version": "3.11.5"
  }
 },
 "nbformat": 4,
 "nbformat_minor": 2
}
